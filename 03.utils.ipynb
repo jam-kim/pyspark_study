{
 "cells": [
  {
   "cell_type": "code",
   "execution_count": 4,
   "metadata": {},
   "outputs": [],
   "source": [
    "import warnings"
   ]
  },
  {
   "cell_type": "code",
   "execution_count": 5,
   "metadata": {},
   "outputs": [],
   "source": [
    "'''\n",
    "DataFrame: PySpark DataFrame\n",
    "old_names: Current column name\n",
    "new_names: New column name\n",
    "'''\n",
    "\n",
    "def rename(DataFrame, old_names, new_names):\n",
    "    \n",
    "    if type(old_names) is not str and type(old_names) is not list:\n",
    "        raise ValueError(f'Type of old_names is {type(old_names)}. Only string or list can be entered.')\n",
    "\n",
    "    if type(new_names) is not str and type(new_names) is not list:\n",
    "        raise ValueError(f'Type of new_names is {type(new_names)}. Only string or list can be entered.')\n",
    "        \n",
    "    if type(old_names) != type(new_names):\n",
    "        raise ValueError('old_names and new_names are not of the same type.')\n",
    "\n",
    "    if type(old_names) is list and len(old_names) != len(new_names):\n",
    "        raise ValueError('old_names and new_names are not same length.')\n",
    "        \n",
    "    if all(isinstance(name, str) for name in old_names) == False:\n",
    "        raise ValueError('Non-string element is in old_names.')\n",
    "        \n",
    "    if all(isinstance(name, str) for name in new_names) == False:\n",
    "        raise ValueError('Non-string element is in new_names.')\n",
    "\n",
    "    output = DataFrame\n",
    "    \n",
    "    if type(old_names) == str:\n",
    "        output = DataFrame.withColumnRenamed(old_names, new_names)\n",
    "    \n",
    "    else:\n",
    "        for idx, name in enumerate(old_names):\n",
    "            old_name = name\n",
    "            new_name = new_names[idx]\n",
    "            \n",
    "            if old_name not in DataFrame.columns:\n",
    "                warnings.warn(f\"There is no column name {old_name} in DataFrame.\")\n",
    "            else:\n",
    "                output = output.withColumnRenamed(old_name, new_name) \n",
    "    \n",
    "    return output"
   ]
  }
 ],
 "metadata": {
  "kernelspec": {
   "display_name": "Python 3",
   "language": "python",
   "name": "python3"
  },
  "language_info": {
   "codemirror_mode": {
    "name": "ipython",
    "version": 3
   },
   "file_extension": ".py",
   "mimetype": "text/x-python",
   "name": "python",
   "nbconvert_exporter": "python",
   "pygments_lexer": "ipython3",
   "version": "3.6.7"
  }
 },
 "nbformat": 4,
 "nbformat_minor": 4
}
