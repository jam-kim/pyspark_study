{
 "cells": [
  {
   "cell_type": "code",
   "execution_count": 1,
   "metadata": {},
   "outputs": [
    {
     "name": "stdout",
     "output_type": "stream",
     "text": [
      "importing Jupyter notebook from utils.ipynb\n"
     ]
    }
   ],
   "source": [
    "import findspark\n",
    "findspark.init()\n",
    "\n",
    "import import_ipynb\n",
    "from utils import rename\n",
    "\n",
    "import pyspark.sql.types as tp\n",
    "from pyspark import SparkContext, SparkFiles\n",
    "from pyspark.sql import SQLContext\n",
    "from pyspark.ml import Pipeline\n",
    "from pyspark.ml.feature import StringIndexer, VectorAssembler\n",
    "from pyspark.ml.classification import LogisticRegression"
   ]
  },
  {
   "cell_type": "code",
   "execution_count": 2,
   "metadata": {},
   "outputs": [],
   "source": [
    "sc = SparkContext()\n",
    "\n",
    "url = 'https://gist.githubusercontent.com/netj/8836201/raw/6f9306ad21398ea43cba4f7d537619d0e07d5ae3/iris.csv'\n",
    "sc.addFile(url)\n",
    "sqlContext = SQLContext(sc)"
   ]
  },
  {
   "cell_type": "code",
   "execution_count": 3,
   "metadata": {},
   "outputs": [],
   "source": [
    "schema_setting = tp.StructType([\n",
    "    tp.StructField(name='sepal.length', dataType=tp.DoubleType(), nullable=False),\n",
    "    tp.StructField(name='sepal.width', dataType=tp.DoubleType(), nullable=False),\n",
    "    tp.StructField(name='petal.length', dataType=tp.DoubleType(), nullable=True),\n",
    "    tp.StructField(name='petal.width', dataType=tp.DoubleType(), nullable=False),\n",
    "    tp.StructField(name='variety', dataType=tp.StringType(), nullable=False)\n",
    "])\n",
    "\n",
    "data = sqlContext.read.csv(\n",
    "    SparkFiles.get(\"iris.csv\"), \n",
    "    schema=schema_setting,\n",
    "    header=True\n",
    ")"
   ]
  },
  {
   "cell_type": "code",
   "execution_count": 4,
   "metadata": {},
   "outputs": [
    {
     "name": "stdout",
     "output_type": "stream",
     "text": [
      "+------------+-----------+------------+-----------+-------+\n",
      "|sepal.length|sepal.width|petal.length|petal.width|variety|\n",
      "+------------+-----------+------------+-----------+-------+\n",
      "|         5.1|        3.5|         1.4|        0.2| Setosa|\n",
      "|         4.9|        3.0|         1.4|        0.2| Setosa|\n",
      "|         4.7|        3.2|         1.3|        0.2| Setosa|\n",
      "+------------+-----------+------------+-----------+-------+\n",
      "only showing top 3 rows\n",
      "\n"
     ]
    }
   ],
   "source": [
    "data.show(3)"
   ]
  },
  {
   "cell_type": "code",
   "execution_count": 5,
   "metadata": {},
   "outputs": [
    {
     "name": "stdout",
     "output_type": "stream",
     "text": [
      "+---+---+---+---+------+\n",
      "| x1| x2| x3| x4|     y|\n",
      "+---+---+---+---+------+\n",
      "|5.1|3.5|1.4|0.2|Setosa|\n",
      "|4.9|3.0|1.4|0.2|Setosa|\n",
      "|4.7|3.2|1.3|0.2|Setosa|\n",
      "+---+---+---+---+------+\n",
      "only showing top 3 rows\n",
      "\n"
     ]
    }
   ],
   "source": [
    "rename_data = rename(data, data.columns, ['x1', 'x2', 'x3', 'x4', 'y'])\n",
    "rename_data.show(3)"
   ]
  },
  {
   "cell_type": "code",
   "execution_count": 6,
   "metadata": {},
   "outputs": [],
   "source": [
    "split = rename_data.randomSplit([0.6, 0.4])\n",
    "\n",
    "train_data = split[0]\n",
    "test_data = split[1]"
   ]
  },
  {
   "cell_type": "code",
   "execution_count": 7,
   "metadata": {},
   "outputs": [],
   "source": [
    "# string -> category\n",
    "string_indexer = StringIndexer(inputCol='y', outputCol='label')\n",
    "\n",
    "# each x value -> vector\n",
    "vector_assembler = VectorAssembler(inputCols=['x1', 'x2', 'x3', 'x4'], outputCol='features')\n",
    "\n",
    "# generage model\n",
    "logistic_regression = LogisticRegression(featuresCol='features', labelCol='label')\n",
    "\n",
    "# combine\n",
    "pipeline = Pipeline(stages=[string_indexer, vector_assembler, logistic_regression])\n",
    "\n",
    "# create model\n",
    "model = pipeline.fit(train_data)"
   ]
  },
  {
   "cell_type": "code",
   "execution_count": 8,
   "metadata": {},
   "outputs": [
    {
     "name": "stdout",
     "output_type": "stream",
     "text": [
      "+-----+----------+-----+\n",
      "|label|prediction|count|\n",
      "+-----+----------+-----+\n",
      "|  0.0|       0.0|   17|\n",
      "|  1.0|       1.0|   21|\n",
      "|  2.0|       2.0|   23|\n",
      "|  2.0|       1.0|    1|\n",
      "+-----+----------+-----+\n",
      "\n"
     ]
    }
   ],
   "source": [
    "pred = model.transform(test_data)\n",
    "pred.select('label', 'prediction').groupBy('label', 'prediction').count().sort('label').show()"
   ]
  }
 ],
 "metadata": {
  "kernelspec": {
   "display_name": "Python 3",
   "language": "python",
   "name": "python3"
  },
  "language_info": {
   "codemirror_mode": {
    "name": "ipython",
    "version": 3
   },
   "file_extension": ".py",
   "mimetype": "text/x-python",
   "name": "python",
   "nbconvert_exporter": "python",
   "pygments_lexer": "ipython3",
   "version": "3.6.7"
  }
 },
 "nbformat": 4,
 "nbformat_minor": 4
}
