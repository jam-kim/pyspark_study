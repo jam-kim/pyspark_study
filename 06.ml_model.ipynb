{
 "cells": [
  {
   "cell_type": "code",
   "execution_count": 1,
   "metadata": {},
   "outputs": [
    {
     "name": "stdout",
     "output_type": "stream",
     "text": [
      "importing Jupyter notebook from utils.ipynb\n"
     ]
    }
   ],
   "source": [
    "import findspark\n",
    "findspark.init()\n",
    "\n",
    "import import_ipynb\n",
    "from utils import rename\n",
    "\n",
    "import pyspark.sql.types as tp\n",
    "from pyspark import SparkContext, SparkFiles\n",
    "from pyspark.sql import SQLContext\n",
    "from pyspark.ml import Pipeline\n",
    "from pyspark.ml.feature import StringIndexer, VectorAssembler\n",
    "from pyspark.ml.classification import LogisticRegression\n",
    "from pyspark.ml.regression import LinearRegression"
   ]
  },
  {
   "cell_type": "markdown",
   "metadata": {},
   "source": [
    "### Classification"
   ]
  },
  {
   "cell_type": "code",
   "execution_count": 2,
   "metadata": {},
   "outputs": [],
   "source": [
    "sc = SparkContext()\n",
    "\n",
    "url = 'https://gist.githubusercontent.com/netj/8836201/raw/6f9306ad21398ea43cba4f7d537619d0e07d5ae3/iris.csv'\n",
    "sc.addFile(url)\n",
    "sqlContext = SQLContext(sc)"
   ]
  },
  {
   "cell_type": "code",
   "execution_count": 3,
   "metadata": {},
   "outputs": [],
   "source": [
    "schema_setting = tp.StructType([\n",
    "    tp.StructField(name='sepal.length', dataType=tp.DoubleType(), nullable=False),\n",
    "    tp.StructField(name='sepal.width', dataType=tp.DoubleType(), nullable=False),\n",
    "    tp.StructField(name='petal.length', dataType=tp.DoubleType(), nullable=True),\n",
    "    tp.StructField(name='petal.width', dataType=tp.DoubleType(), nullable=False),\n",
    "    tp.StructField(name='variety', dataType=tp.StringType(), nullable=False)\n",
    "])\n",
    "\n",
    "data = sqlContext.read.csv(\n",
    "    SparkFiles.get(\"iris.csv\"), \n",
    "    schema=schema_setting,\n",
    "    header=True\n",
    ")"
   ]
  },
  {
   "cell_type": "code",
   "execution_count": 4,
   "metadata": {},
   "outputs": [
    {
     "name": "stdout",
     "output_type": "stream",
     "text": [
      "+------------+-----------+------------+-----------+-------+\n",
      "|sepal.length|sepal.width|petal.length|petal.width|variety|\n",
      "+------------+-----------+------------+-----------+-------+\n",
      "|         5.1|        3.5|         1.4|        0.2| Setosa|\n",
      "|         4.9|        3.0|         1.4|        0.2| Setosa|\n",
      "|         4.7|        3.2|         1.3|        0.2| Setosa|\n",
      "+------------+-----------+------------+-----------+-------+\n",
      "only showing top 3 rows\n",
      "\n"
     ]
    }
   ],
   "source": [
    "data.show(3)"
   ]
  },
  {
   "cell_type": "code",
   "execution_count": 5,
   "metadata": {},
   "outputs": [
    {
     "name": "stdout",
     "output_type": "stream",
     "text": [
      "+---+---+---+---+------+\n",
      "| x1| x2| x3| x4|     y|\n",
      "+---+---+---+---+------+\n",
      "|5.1|3.5|1.4|0.2|Setosa|\n",
      "|4.9|3.0|1.4|0.2|Setosa|\n",
      "|4.7|3.2|1.3|0.2|Setosa|\n",
      "+---+---+---+---+------+\n",
      "only showing top 3 rows\n",
      "\n"
     ]
    }
   ],
   "source": [
    "rename_data = rename(data, data.columns, ['x1', 'x2', 'x3', 'x4', 'y'])\n",
    "rename_data.show(3)"
   ]
  },
  {
   "cell_type": "code",
   "execution_count": 6,
   "metadata": {},
   "outputs": [],
   "source": [
    "split = rename_data.randomSplit([0.6, 0.4])\n",
    "\n",
    "train_data = split[0]\n",
    "test_data = split[1]"
   ]
  },
  {
   "cell_type": "code",
   "execution_count": 7,
   "metadata": {},
   "outputs": [],
   "source": [
    "# string -> category\n",
    "string_indexer = StringIndexer(inputCol='y', outputCol='label')\n",
    "\n",
    "# each x value -> vector\n",
    "vector_assembler = VectorAssembler(inputCols=['x1', 'x2', 'x3', 'x4'], outputCol='features')\n",
    "\n",
    "# generage model\n",
    "logistic_regression = LogisticRegression(featuresCol='features', labelCol='label')\n",
    "\n",
    "# combine\n",
    "pipeline = Pipeline(stages=[string_indexer, vector_assembler, logistic_regression])\n",
    "\n",
    "# create model\n",
    "model = pipeline.fit(train_data)"
   ]
  },
  {
   "cell_type": "code",
   "execution_count": 8,
   "metadata": {},
   "outputs": [
    {
     "name": "stdout",
     "output_type": "stream",
     "text": [
      "+-----+----------+-----+\n",
      "|label|prediction|count|\n",
      "+-----+----------+-----+\n",
      "|  0.0|       0.0|   19|\n",
      "|  1.0|       0.0|    2|\n",
      "|  1.0|       1.0|   17|\n",
      "|  2.0|       2.0|   23|\n",
      "+-----+----------+-----+\n",
      "\n"
     ]
    }
   ],
   "source": [
    "pred = model.transform(test_data)\n",
    "pred.select('label', 'prediction').groupBy('label', 'prediction').count().sort('label').show()"
   ]
  },
  {
   "cell_type": "markdown",
   "metadata": {},
   "source": [
    "### Regression"
   ]
  },
  {
   "cell_type": "code",
   "execution_count": 10,
   "metadata": {},
   "outputs": [],
   "source": [
    "sc.stop()\n",
    "sc = SparkContext()\n",
    "\n",
    "url = 'https://raw.githubusercontent.com/selva86/datasets/master/BostonHousing.csv'\n",
    "sc.addFile(url)\n",
    "sqlContext = SQLContext(sc)"
   ]
  },
  {
   "cell_type": "code",
   "execution_count": 11,
   "metadata": {},
   "outputs": [],
   "source": [
    "schema_setting = tp.StructType([\n",
    "    tp.StructField(name='crim', dataType=tp.DoubleType(), nullable=False),\n",
    "    tp.StructField(name='zn', dataType=tp.DoubleType(), nullable=False),\n",
    "    tp.StructField(name='indus', dataType=tp.DoubleType(), nullable=True),\n",
    "    tp.StructField(name='chas', dataType=tp.IntegerType(), nullable=False),\n",
    "    tp.StructField(name='nox', dataType=tp.DoubleType(), nullable=False),\n",
    "    tp.StructField(name='rm', dataType=tp.DoubleType(), nullable=False),\n",
    "    tp.StructField(name='age', dataType=tp.DoubleType(), nullable=False),\n",
    "    tp.StructField(name='dis', dataType=tp.DoubleType(), nullable=False),\n",
    "    tp.StructField(name='rad', dataType=tp.IntegerType(), nullable=False),\n",
    "    tp.StructField(name='tax', dataType=tp.IntegerType(), nullable=False),\n",
    "    tp.StructField(name='ptratio', dataType=tp.DoubleType(), nullable=False),\n",
    "    tp.StructField(name='b', dataType=tp.DoubleType(), nullable=False),\n",
    "    tp.StructField(name='lstat', dataType=tp.DoubleType(), nullable=False),\n",
    "    tp.StructField(name='medv', dataType=tp.DoubleType(), nullable=False)\n",
    "])\n",
    "\n",
    "data = sqlContext.read.csv(\n",
    "    SparkFiles.get(\"BostonHousing.csv\"), \n",
    "    schema=schema_setting,\n",
    "    header=True\n",
    ")"
   ]
  },
  {
   "cell_type": "code",
   "execution_count": 12,
   "metadata": {},
   "outputs": [
    {
     "name": "stdout",
     "output_type": "stream",
     "text": [
      "+-------+----+-----+----+-----+-----+----+------+---+---+-------+------+-----+----+\n",
      "|   crim|  zn|indus|chas|  nox|   rm| age|   dis|rad|tax|ptratio|     b|lstat|medv|\n",
      "+-------+----+-----+----+-----+-----+----+------+---+---+-------+------+-----+----+\n",
      "|0.00632|18.0| 2.31|   0|0.538|6.575|65.2|  4.09|  1|296|   15.3| 396.9| 4.98|24.0|\n",
      "|0.02731| 0.0| 7.07|   0|0.469|6.421|78.9|4.9671|  2|242|   17.8| 396.9| 9.14|21.6|\n",
      "|0.02729| 0.0| 7.07|   0|0.469|7.185|61.1|4.9671|  2|242|   17.8|392.83| 4.03|34.7|\n",
      "|0.03237| 0.0| 2.18|   0|0.458|6.998|45.8|6.0622|  3|222|   18.7|394.63| 2.94|33.4|\n",
      "|0.06905| 0.0| 2.18|   0|0.458|7.147|54.2|6.0622|  3|222|   18.7| 396.9| 5.33|36.2|\n",
      "+-------+----+-----+----+-----+-----+----+------+---+---+-------+------+-----+----+\n",
      "only showing top 5 rows\n",
      "\n"
     ]
    }
   ],
   "source": [
    "data.show(5)"
   ]
  },
  {
   "cell_type": "code",
   "execution_count": 14,
   "metadata": {},
   "outputs": [],
   "source": [
    "split = data.randomSplit([0.6, 0.4])\n",
    "\n",
    "train_data = split[0]\n",
    "test_data = split[1]"
   ]
  },
  {
   "cell_type": "code",
   "execution_count": 15,
   "metadata": {},
   "outputs": [],
   "source": [
    "input_cols = train_data.columns[:-1]\n",
    "\n",
    "train_vectors = VectorAssembler(inputCols=input_cols, outputCol='features')\n",
    "train = train_vectors.transform(train_data)\n",
    "\n",
    "lr = LinearRegression(maxIter=10, regParam=0.3, elasticNetParam=0.8, featuresCol='features', labelCol='medv')\n",
    "\n",
    "lrModel = lr.fit(train)\n"
   ]
  },
  {
   "cell_type": "code",
   "execution_count": 16,
   "metadata": {},
   "outputs": [
    {
     "name": "stdout",
     "output_type": "stream",
     "text": [
      "RMSE: 4.785258\n"
     ]
    }
   ],
   "source": [
    "trainingSummary = lrModel.summary\n",
    "\n",
    "print(\"RMSE: %f\" % trainingSummary.rootMeanSquaredError)"
   ]
  },
  {
   "cell_type": "code",
   "execution_count": 17,
   "metadata": {},
   "outputs": [
    {
     "name": "stdout",
     "output_type": "stream",
     "text": [
      "+----+------------------+\n",
      "|medv|        prediction|\n",
      "+----+------------------+\n",
      "|24.0|30.652205857897826|\n",
      "|32.7|32.239020383843304|\n",
      "|50.0|41.950905237627715|\n",
      "+----+------------------+\n",
      "only showing top 3 rows\n",
      "\n"
     ]
    }
   ],
   "source": [
    "test_vectors = VectorAssembler(inputCols=input_cols, outputCol='features')\n",
    "test = train_vectors.transform(test_data)\n",
    "\n",
    "pred = lrModel.transform(test)\n",
    "pred.select('medv', 'prediction').show(3)"
   ]
  }
 ],
 "metadata": {
  "kernelspec": {
   "display_name": "Python 3",
   "language": "python",
   "name": "python3"
  },
  "language_info": {
   "codemirror_mode": {
    "name": "ipython",
    "version": 3
   },
   "file_extension": ".py",
   "mimetype": "text/x-python",
   "name": "python",
   "nbconvert_exporter": "python",
   "pygments_lexer": "ipython3",
   "version": "3.6.7"
  }
 },
 "nbformat": 4,
 "nbformat_minor": 4
}
