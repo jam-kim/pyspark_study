{
 "cells": [
  {
   "cell_type": "markdown",
   "metadata": {},
   "source": [
    "## 테스트 환경\n",
    "\n",
    "CPU: i7-8550U\n",
    "\n",
    "RAM: 16GB\n",
    "\n",
    "jupyterlab==2.0.1\n",
    "\n",
    "pyspark==2.4.5\n",
    "\n",
    "pandas==1.0.1\n",
    "\n",
    "numpy==1.18.1"
   ]
  },
  {
   "cell_type": "code",
   "execution_count": 98,
   "metadata": {},
   "outputs": [
    {
     "name": "stdout",
     "output_type": "stream",
     "text": [
      "Package            Version\n",
      "------------------ -------\n",
      "attrs              19.3.0 \n",
      "backcall           0.1.0  \n",
      "bleach             3.1.1  \n",
      "colorama           0.4.3  \n",
      "decorator          4.4.2  \n",
      "defusedxml         0.6.0  \n",
      "entrypoints        0.3    \n",
      "findspark          1.3.0  \n",
      "import-ipynb       0.1.3  \n",
      "importlib-metadata 1.5.0  \n",
      "ipykernel          5.1.4  \n",
      "ipython            7.13.0 \n",
      "ipython-genutils   0.2.0  \n",
      "ipywidgets         7.5.1  \n",
      "jedi               0.16.0 \n",
      "Jinja2             2.11.1 \n",
      "json5              0.9.2  \n",
      "jsonschema         3.2.0  \n",
      "jupyter            1.0.0  \n",
      "jupyter-client     6.0.0  \n",
      "jupyter-console    6.1.0  \n",
      "jupyter-core       4.6.3  \n",
      "jupyterlab         2.0.1  \n",
      "jupyterlab-server  1.0.7  \n",
      "MarkupSafe         1.1.1  \n",
      "mistune            0.8.4  \n",
      "nbconvert          5.6.1  \n",
      "nbformat           5.0.4  \n",
      "notebook           6.0.3  \n",
      "numpy              1.18.1 \n",
      "pandas             1.0.1  \n",
      "pandocfilters      1.4.2  \n",
      "parso              0.6.2  \n",
      "pickleshare        0.7.5  \n",
      "pip                20.0.2 \n",
      "prometheus-client  0.7.1  \n",
      "prompt-toolkit     3.0.4  \n",
      "py4j               0.10.7 \n",
      "Pygments           2.6.1  \n",
      "pyrsistent         0.15.7 \n",
      "pyspark            2.4.5  \n",
      "python-dateutil    2.8.1  \n",
      "pytz               2019.3 \n",
      "pywin32            227    \n",
      "pywinpty           0.5.7  \n",
      "pyzmq              19.0.0 \n",
      "qtconsole          4.7.1  \n",
      "QtPy               1.9.0  \n",
      "Send2Trash         1.5.0  \n",
      "setuptools         46.0.0 \n",
      "six                1.14.0 \n",
      "terminado          0.8.3  \n",
      "testpath           0.4.4  \n",
      "tornado            6.0.4  \n",
      "traitlets          4.3.3  \n",
      "wcwidth            0.1.8  \n",
      "webencodings       0.5.1  \n",
      "wheel              0.34.2 \n",
      "widgetsnbextension 3.5.1  \n",
      "zipp               3.1.0  \n"
     ]
    }
   ],
   "source": [
    "import time\n",
    "import pandas as pd \n",
    "from numpy import genfromtxt\n",
    "\n",
    "import findspark\n",
    "findspark.init()\n",
    "\n",
    "from pyspark.sql import SparkSession, SQLContext"
   ]
  },
  {
   "cell_type": "code",
   "execution_count": 2,
   "metadata": {},
   "outputs": [],
   "source": [
    "sc = SparkContext()\n",
    "sqlContext = SQLContext(sc)\n",
    "spark = SparkSession.builder.getOrCreate()"
   ]
  },
  {
   "cell_type": "code",
   "execution_count": 85,
   "metadata": {},
   "outputs": [],
   "source": [
    "def time_check(code, nums=10):\n",
    "    output = dict()\n",
    "    \n",
    "    l = list()\n",
    "    \n",
    "    for num in range(nums):\n",
    "        start_time = time.time()\n",
    "        exec(code)\n",
    "        end_time = time.time()\n",
    "\n",
    "        time_diff = round(end_time - start_time,3)  \n",
    "        l.append(time_diff)\n",
    "        print(num+1,':',time_diff)\n",
    "        \n",
    "    output['avg'] = round(sum(l) / len(l), 3)\n",
    "    output['max'] = max(l)\n",
    "    output['min'] = min(l)\n",
    "    output['nums'] = nums\n",
    "    \n",
    "    return output \n",
    "    "
   ]
  },
  {
   "cell_type": "markdown",
   "metadata": {},
   "source": [
    "## Read csv\n",
    "- 10회 평균 값, 단위: 초\n",
    "\n",
    "사용 코드\n",
    "- pyspark: ```spark.read.csv('../path/data.csv', header=True)```\n",
    "- pandas: ```pd.read_csv('../path/data.csv')```\n",
    "- numpy: ```genfromtxt('../path/data.csv', delimiter=',', skip_header=0)```\n",
    "\n",
    "|         | row=1000 | row=10000 | row=100000 | row=500000 |\n",
    "|:-------:|:--------:|:---------:|:----------:|:----------:|\n",
    "| pyspark |   0.338  |   0.285   |    0.244   |    0.208   |\n",
    "|  pandas |   0.023  |   0.113   |    0.888   |    4.329   |\n",
    "|  numpy  |   0.052  |   0.537   |    5.38    |   27.498   |"
   ]
  },
  {
   "cell_type": "code",
   "execution_count": 99,
   "metadata": {},
   "outputs": [
    {
     "data": {
      "text/plain": [
       "{'avg': 0.208, 'max': 0.229, 'min': 0.192, 'nums': 10}"
      ]
     },
     "execution_count": 99,
     "metadata": {},
     "output_type": "execute_result"
    }
   ],
   "source": [
    "spark_read_csv = \"spark.read.csv('../data/row_500000.csv', header=True)\"\n",
    "\n",
    "time_check(spark_read_csv)"
   ]
  },
  {
   "cell_type": "code",
   "execution_count": 100,
   "metadata": {},
   "outputs": [
    {
     "data": {
      "text/plain": [
       "{'avg': 4.329, 'max': 4.437, 'min': 4.244, 'nums': 10}"
      ]
     },
     "execution_count": 100,
     "metadata": {},
     "output_type": "execute_result"
    }
   ],
   "source": [
    "pandas_red_csv = \"pd.read_csv('../data/row_500000.csv')\"\n",
    "\n",
    "time_check(pandas_red_csv)"
   ]
  },
  {
   "cell_type": "code",
   "execution_count": 101,
   "metadata": {},
   "outputs": [
    {
     "data": {
      "text/plain": [
       "{'avg': 27.498, 'max': 27.852, 'min': 27.252, 'nums': 10}"
      ]
     },
     "execution_count": 101,
     "metadata": {},
     "output_type": "execute_result"
    }
   ],
   "source": [
    "numpy_read_csv = \"genfromtxt('../data/row_500000.csv', delimiter=',', skip_header=0)\"\n",
    "\n",
    "time_check(numpy_read_csv)"
   ]
  },
  {
   "cell_type": "markdown",
   "metadata": {},
   "source": [
    "## select\n",
    "## where\n",
    "## group by\n",
    "## order by\n",
    "## delete"
   ]
  }
 ],
 "metadata": {
  "kernelspec": {
   "display_name": "Python 3",
   "language": "python",
   "name": "python3"
  },
  "language_info": {
   "codemirror_mode": {
    "name": "ipython",
    "version": 3
   },
   "file_extension": ".py",
   "mimetype": "text/x-python",
   "name": "python",
   "nbconvert_exporter": "python",
   "pygments_lexer": "ipython3",
   "version": "3.6.7"
  }
 },
 "nbformat": 4,
 "nbformat_minor": 4
}
