{
 "cells": [
  {
   "cell_type": "code",
   "execution_count": 1,
   "metadata": {},
   "outputs": [],
   "source": [
    "import findspark\n",
    "findspark.init()\n",
    "\n",
    "from pyspark.sql import SparkSession"
   ]
  },
  {
   "cell_type": "code",
   "execution_count": 2,
   "metadata": {},
   "outputs": [],
   "source": [
    "ss = SparkSession.builder.getOrCreate()"
   ]
  },
  {
   "cell_type": "code",
   "execution_count": 3,
   "metadata": {},
   "outputs": [],
   "source": [
    "df = ss.createDataFrame(\n",
    "    data = [\n",
    "        ('Jam', 5.62, '쥬스'),  \n",
    "        ('Ham', 0.85, '우유')\n",
    "    ]\n",
    "    , schema = [\"Name\", \"Amount\", \"Item\"]\n",
    ")"
   ]
  },
  {
   "cell_type": "markdown",
   "metadata": {},
   "source": [
    "### DataFrame을 보여준다\n",
    "```DataFrame.show()```"
   ]
  },
  {
   "cell_type": "code",
   "execution_count": 4,
   "metadata": {},
   "outputs": [
    {
     "name": "stdout",
     "output_type": "stream",
     "text": [
      "+----+------+----+\n",
      "|Name|Amount|Item|\n",
      "+----+------+----+\n",
      "| Jam|  5.62|쥬스|\n",
      "| Ham|  0.85|우유|\n",
      "+----+------+----+\n",
      "\n"
     ]
    }
   ],
   "source": [
    "df.show()"
   ]
  },
  {
   "cell_type": "markdown",
   "metadata": {},
   "source": [
    "### DataFrame의 스키마 정보를 보여준다\n",
    "```DataFrame.printSchema()```"
   ]
  },
  {
   "cell_type": "code",
   "execution_count": 5,
   "metadata": {},
   "outputs": [
    {
     "name": "stdout",
     "output_type": "stream",
     "text": [
      "root\n",
      " |-- Name: string (nullable = true)\n",
      " |-- Amount: double (nullable = true)\n",
      " |-- Item: string (nullable = true)\n",
      "\n"
     ]
    }
   ],
   "source": [
    "df.printSchema()"
   ]
  },
  {
   "cell_type": "markdown",
   "metadata": {},
   "source": [
    "### DataFrame의 요약 통계를 보여준다\n",
    "```DataFrame.describe().show()```"
   ]
  },
  {
   "cell_type": "code",
   "execution_count": 6,
   "metadata": {},
   "outputs": [
    {
     "name": "stdout",
     "output_type": "stream",
     "text": [
      "+-------+----+-----------------+----+\n",
      "|summary|Name|           Amount|Item|\n",
      "+-------+----+-----------------+----+\n",
      "|  count|   2|                2|   2|\n",
      "|   mean|null|            3.235|null|\n",
      "| stddev|null|3.372899346259832|null|\n",
      "|    min| Ham|             0.85|우유|\n",
      "|    max| Jam|             5.62|쥬스|\n",
      "+-------+----+-----------------+----+\n",
      "\n"
     ]
    }
   ],
   "source": [
    "df.describe().show()"
   ]
  },
  {
   "cell_type": "markdown",
   "metadata": {},
   "source": [
    "### Column name을 바꾼다\n",
    "\n",
    "```DataFrame.withColumnRenamed('old_name', 'new_name')```"
   ]
  },
  {
   "cell_type": "code",
   "execution_count": 24,
   "metadata": {},
   "outputs": [],
   "source": [
    "rename_df = df.withColumnRenamed(\"Amount\", \"Price\")"
   ]
  },
  {
   "cell_type": "code",
   "execution_count": 8,
   "metadata": {},
   "outputs": [
    {
     "name": "stdout",
     "output_type": "stream",
     "text": [
      "+----+-----+----+\n",
      "|Name|Price|Item|\n",
      "+----+-----+----+\n",
      "| Jam| 5.62|쥬스|\n",
      "| Ham| 0.85|우유|\n",
      "+----+-----+----+\n",
      "\n"
     ]
    }
   ],
   "source": [
    "rename_df.show()"
   ]
  },
  {
   "cell_type": "code",
   "execution_count": 9,
   "metadata": {},
   "outputs": [
    {
     "name": "stdout",
     "output_type": "stream",
     "text": [
      "importing Jupyter notebook from utils.ipynb\n"
     ]
    }
   ],
   "source": [
    "import import_ipynb\n",
    "from utils import rename"
   ]
  },
  {
   "cell_type": "code",
   "execution_count": 19,
   "metadata": {},
   "outputs": [
    {
     "name": "stdout",
     "output_type": "stream",
     "text": [
      "+----+-----+----+\n",
      "|Name|Price|Item|\n",
      "+----+-----+----+\n",
      "| Jam| 5.62|쥬스|\n",
      "| Ham| 0.85|우유|\n",
      "+----+-----+----+\n",
      "\n"
     ]
    }
   ],
   "source": [
    "rename_df = rename(df, 'Amount', 'Price')\n",
    "rename_df.show()"
   ]
  },
  {
   "cell_type": "code",
   "execution_count": 23,
   "metadata": {},
   "outputs": [
    {
     "name": "stdout",
     "output_type": "stream",
     "text": [
      "+------+----+----+\n",
      "|고객명|가격|상품|\n",
      "+------+----+----+\n",
      "|   Jam|5.62|쥬스|\n",
      "|   Ham|0.85|우유|\n",
      "+------+----+----+\n",
      "\n"
     ]
    }
   ],
   "source": [
    "rename_df = rename(df, ['Name', 'Amount', 'Item'], ['고객명', '가격', '상품'])\n",
    "rename_df.show()"
   ]
  },
  {
   "cell_type": "code",
   "execution_count": null,
   "metadata": {},
   "outputs": [],
   "source": []
  }
 ],
 "metadata": {
  "kernelspec": {
   "display_name": "Python 3",
   "language": "python",
   "name": "python3"
  },
  "language_info": {
   "codemirror_mode": {
    "name": "ipython",
    "version": 3
   },
   "file_extension": ".py",
   "mimetype": "text/x-python",
   "name": "python",
   "nbconvert_exporter": "python",
   "pygments_lexer": "ipython3",
   "version": "3.6.7"
  }
 },
 "nbformat": 4,
 "nbformat_minor": 4
}
