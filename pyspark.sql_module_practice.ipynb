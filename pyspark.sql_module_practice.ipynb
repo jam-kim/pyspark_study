{
 "cells": [
  {
   "cell_type": "code",
   "execution_count": 1,
   "metadata": {},
   "outputs": [],
   "source": [
    "import findspark\n",
    "findspark.init()\n",
    "from pyspark import SparkContext, SparkFiles\n",
    "from pyspark.sql import SQLContext, SparkSession"
   ]
  },
  {
   "cell_type": "markdown",
   "metadata": {},
   "source": [
    "주의! SparkContext()는 최초 실행 후 다시 실행하면 에러가 발생한다.\n",
    "> 🤔 왜 ?"
   ]
  },
  {
   "cell_type": "code",
   "execution_count": 2,
   "metadata": {},
   "outputs": [],
   "source": [
    "sc = SparkContext() \n",
    "sqlContext = SQLContext(sc)"
   ]
  },
  {
   "cell_type": "code",
   "execution_count": 3,
   "metadata": {},
   "outputs": [],
   "source": [
    "url = \"https://raw.githubusercontent.com/guru99-edu/R-Programming/master/adult_data.csv\"\n",
    "sc.addFile(url)\n",
    "sqlContext = SQLContext(sc)"
   ]
  },
  {
   "cell_type": "code",
   "execution_count": 4,
   "metadata": {},
   "outputs": [],
   "source": [
    "df = sqlContext.read.csv(\n",
    "    SparkFiles.get(\"adult_data.csv\"), \n",
    "    header=True, \n",
    "    inferSchema=True\n",
    ")"
   ]
  },
  {
   "cell_type": "markdown",
   "metadata": {},
   "source": [
    "### select"
   ]
  },
  {
   "cell_type": "code",
   "execution_count": 5,
   "metadata": {},
   "outputs": [
    {
     "name": "stdout",
     "output_type": "stream",
     "text": [
      "+---+------------------+------+\n",
      "|age|              race|income|\n",
      "+---+------------------+------+\n",
      "| 25|             Black| <=50K|\n",
      "| 38|             White| <=50K|\n",
      "| 28|             White|  >50K|\n",
      "| 44|             Black|  >50K|\n",
      "| 18|             White| <=50K|\n",
      "| 34|             White| <=50K|\n",
      "| 29|             Black| <=50K|\n",
      "| 63|             White|  >50K|\n",
      "| 24|             White| <=50K|\n",
      "| 55|             White| <=50K|\n",
      "| 65|             White|  >50K|\n",
      "| 36|             White| <=50K|\n",
      "| 26|             White| <=50K|\n",
      "| 58|             White| <=50K|\n",
      "| 48|             White|  >50K|\n",
      "| 43|             White|  >50K|\n",
      "| 20|             White| <=50K|\n",
      "| 43|             White| <=50K|\n",
      "| 37|             White| <=50K|\n",
      "| 40|Asian-Pac-Islander|  >50K|\n",
      "+---+------------------+------+\n",
      "only showing top 20 rows\n",
      "\n"
     ]
    }
   ],
   "source": [
    "df.select('age', 'race', 'income').show()"
   ]
  },
  {
   "cell_type": "markdown",
   "metadata": {},
   "source": [
    "### where \n",
    "```filter()```"
   ]
  },
  {
   "cell_type": "code",
   "execution_count": 6,
   "metadata": {},
   "outputs": [
    {
     "data": {
      "text/plain": [
       "Row(x=23, age=72, workclass='?', fnlwgt=132015, education='7th-8th', educational-num=4, marital-status='Divorced', occupation='?', relationship='Not-in-family', race='White', gender='Female', capital-gain=0, capital-loss=0, hours-per-week=6, native-country='United-States', income='<=50K')"
      ]
     },
     "execution_count": 6,
     "metadata": {},
     "output_type": "execute_result"
    }
   ],
   "source": [
    "df.filter('age > 70').collect()[0]"
   ]
  },
  {
   "cell_type": "markdown",
   "metadata": {},
   "source": [
    "and 조건 / or 조건"
   ]
  },
  {
   "cell_type": "code",
   "execution_count": 7,
   "metadata": {},
   "outputs": [
    {
     "data": {
      "text/plain": [
       "Row(x=23, age=72, workclass='?', fnlwgt=132015, education='7th-8th', educational-num=4, marital-status='Divorced', occupation='?', relationship='Not-in-family', race='White', gender='Female', capital-gain=0, capital-loss=0, hours-per-week=6, native-country='United-States', income='<=50K')"
      ]
     },
     "execution_count": 7,
     "metadata": {},
     "output_type": "execute_result"
    }
   ],
   "source": [
    "df.filter('age > 70 and age < 80').collect()[0]"
   ]
  },
  {
   "cell_type": "code",
   "execution_count": 8,
   "metadata": {},
   "outputs": [
    {
     "data": {
      "text/plain": [
       "Row(x=39, age=17, workclass='Private', fnlwgt=269430, education='10th', educational-num=6, marital-status='Never-married', occupation='Machine-op-inspct', relationship='Not-in-family', race='White', gender='Male', capital-gain=0, capital-loss=0, hours-per-week=40, native-country='United-States', income='<=50K')"
      ]
     },
     "execution_count": 8,
     "metadata": {},
     "output_type": "execute_result"
    }
   ],
   "source": [
    "df.filter('age < 20 or age > 80').collect()[1]"
   ]
  },
  {
   "cell_type": "markdown",
   "metadata": {},
   "source": [
    "### GROUP BY\n",
    "\n",
    "```groupBY()```"
   ]
  },
  {
   "cell_type": "code",
   "execution_count": 9,
   "metadata": {},
   "outputs": [
    {
     "data": {
      "text/plain": [
       "[Row(gender='Female', avg(age)=36.92798913043478),\n",
       " Row(gender='Male', avg(age)=39.49439509954058)]"
      ]
     },
     "execution_count": 9,
     "metadata": {},
     "output_type": "execute_result"
    }
   ],
   "source": [
    "df.groupBy('gender').avg('age').collect()"
   ]
  },
  {
   "cell_type": "markdown",
   "metadata": {},
   "source": [
    "groupBy 기준 여러개를 설정할 수 있다."
   ]
  },
  {
   "cell_type": "code",
   "execution_count": 10,
   "metadata": {},
   "outputs": [
    {
     "data": {
      "text/plain": [
       "[Row(gender='Male', race='White', avg(age)=39.70450669914738),\n",
       " Row(gender='Female', race='Asian-Pac-Islander', avg(age)=35.657640232108314),\n",
       " Row(gender='Female', race='White', avg(age)=36.88293544177478),\n",
       " Row(gender='Female', race='Amer-Indian-Eskimo', avg(age)=36.23783783783784),\n",
       " Row(gender='Male', race='Other', avg(age)=35.167330677290835),\n",
       " Row(gender='Male', race='Black', avg(age)=37.922591501893145),\n",
       " Row(gender='Male', race='Asian-Pac-Islander', avg(age)=38.9940119760479),\n",
       " Row(gender='Male', race='Amer-Indian-Eskimo', avg(age)=36.98947368421052),\n",
       " Row(gender='Female', race='Other', avg(age)=31.212903225806453),\n",
       " Row(gender='Female', race='Black', avg(age)=37.90597920277296)]"
      ]
     },
     "execution_count": 10,
     "metadata": {},
     "output_type": "execute_result"
    }
   ],
   "source": [
    "df.groupBy('gender', 'race').avg('age').collect()"
   ]
  },
  {
   "cell_type": "markdown",
   "metadata": {},
   "source": [
    "물론 구하려는 변수에도 여러개 입력 가능"
   ]
  },
  {
   "cell_type": "code",
   "execution_count": 11,
   "metadata": {},
   "outputs": [
    {
     "name": "stdout",
     "output_type": "stream",
     "text": [
      "+------+-----------------+------------------+\n",
      "|gender|         avg(age)|       avg(fnlwgt)|\n",
      "+------+-----------------+------------------+\n",
      "|Female|36.92798913043478|185504.47171442688|\n",
      "|  Male|39.49439509954058| 191727.0216232772|\n",
      "+------+-----------------+------------------+\n",
      "\n"
     ]
    }
   ],
   "source": [
    "df.groupBy('gender').avg('age', 'fnlwgt').show()"
   ]
  },
  {
   "cell_type": "markdown",
   "metadata": {},
   "source": [
    "### order\n",
    "ORDER BY는 .sort()로 할 수 있다. \n",
    "\n",
    "desc()로 감싸면 descending 가능"
   ]
  },
  {
   "cell_type": "code",
   "execution_count": 13,
   "metadata": {},
   "outputs": [
    {
     "name": "stdout",
     "output_type": "stream",
     "text": [
      "+------+------------------+------------------+\n",
      "|gender|              race|          avg(age)|\n",
      "+------+------------------+------------------+\n",
      "|  Male|Amer-Indian-Eskimo| 36.98947368421052|\n",
      "|  Male|Asian-Pac-Islander|  38.9940119760479|\n",
      "|  Male|             Black|37.922591501893145|\n",
      "|  Male|             Other|35.167330677290835|\n",
      "|  Male|             White| 39.70450669914738|\n",
      "|Female|Amer-Indian-Eskimo| 36.23783783783784|\n",
      "|Female|Asian-Pac-Islander|35.657640232108314|\n",
      "|Female|             Black| 37.90597920277296|\n",
      "|Female|             Other|31.212903225806453|\n",
      "|Female|             White| 36.88293544177478|\n",
      "+------+------------------+------------------+\n",
      "\n"
     ]
    }
   ],
   "source": [
    "from pyspark.sql.functions import desc\n",
    "\n",
    "df.groupBy('gender', 'race').avg('age').sort(desc('gender'), 'race').show()"
   ]
  },
  {
   "cell_type": "markdown",
   "metadata": {},
   "source": [
    "### join을 알아보자\n",
    "default inner. \n",
    "\n",
    "Must be one of: inner, cross, outer, full, full_outer, left, left_outer, right, right_outer, left_semi, and left_anti."
   ]
  },
  {
   "cell_type": "code",
   "execution_count": 14,
   "metadata": {},
   "outputs": [],
   "source": [
    "ss = SparkSession.builder.getOrCreate()"
   ]
  },
  {
   "cell_type": "code",
   "execution_count": 15,
   "metadata": {},
   "outputs": [],
   "source": [
    "df_1 = ss.createDataFrame(\n",
    "    data = [\n",
    "        ('james', 35),  \n",
    "        ('leonard', 28),\n",
    "        ('paul', 34),\n",
    "        ('westbrook', 31),\n",
    "        ('siakam', 28),\n",
    "        ('jokic', 25)\n",
    "    ]\n",
    "    , schema = [\"NAME\", \"AGE\"]\n",
    ")"
   ]
  },
  {
   "cell_type": "code",
   "execution_count": 16,
   "metadata": {},
   "outputs": [
    {
     "name": "stdout",
     "output_type": "stream",
     "text": [
      "+---------+---+\n",
      "|     NAME|AGE|\n",
      "+---------+---+\n",
      "|    james| 35|\n",
      "|  leonard| 28|\n",
      "|     paul| 34|\n",
      "|westbrook| 31|\n",
      "|   siakam| 28|\n",
      "|    jokic| 25|\n",
      "+---------+---+\n",
      "\n"
     ]
    }
   ],
   "source": [
    "df_1.show()"
   ]
  },
  {
   "cell_type": "code",
   "execution_count": 17,
   "metadata": {},
   "outputs": [],
   "source": [
    "df_2 = ss.createDataFrame(\n",
    "    data = [\n",
    "        ('james', 'lal'),  \n",
    "        ('paul', 'okc'),\n",
    "        ('westbrook', 'hou'),\n",
    "        ('siakam', 'tor'),\n",
    "        ('jokic', 'den'),\n",
    "        ('whiteside', 'cle')\n",
    "    ]\n",
    "    , schema = [\"NAME\", \"TEAM\"]\n",
    ")"
   ]
  },
  {
   "cell_type": "code",
   "execution_count": 18,
   "metadata": {},
   "outputs": [
    {
     "name": "stdout",
     "output_type": "stream",
     "text": [
      "+---------+----+\n",
      "|     NAME|TEAM|\n",
      "+---------+----+\n",
      "|    james| lal|\n",
      "|     paul| okc|\n",
      "|westbrook| hou|\n",
      "|   siakam| tor|\n",
      "|    jokic| den|\n",
      "|whiteside| cle|\n",
      "+---------+----+\n",
      "\n"
     ]
    }
   ],
   "source": [
    "df_2.show()"
   ]
  },
  {
   "cell_type": "markdown",
   "metadata": {},
   "source": [
    "- Inner Join"
   ]
  },
  {
   "cell_type": "code",
   "execution_count": 19,
   "metadata": {},
   "outputs": [
    {
     "name": "stdout",
     "output_type": "stream",
     "text": [
      "+---------+---+----+\n",
      "|     NAME|AGE|TEAM|\n",
      "+---------+---+----+\n",
      "|    jokic| 25| den|\n",
      "|     paul| 34| okc|\n",
      "|westbrook| 31| hou|\n",
      "|   siakam| 28| tor|\n",
      "|    james| 35| lal|\n",
      "+---------+---+----+\n",
      "\n"
     ]
    }
   ],
   "source": [
    "inner_join = df_1.join(df_2, df_1.NAME == df_2.NAME, 'inner').select(df_1.NAME, df_1.AGE, df_2.TEAM)\n",
    "inner_join.show()"
   ]
  },
  {
   "cell_type": "markdown",
   "metadata": {},
   "source": [
    "- Left Join"
   ]
  },
  {
   "cell_type": "code",
   "execution_count": 21,
   "metadata": {},
   "outputs": [
    {
     "name": "stdout",
     "output_type": "stream",
     "text": [
      "+---------+---+----+\n",
      "|     NAME|AGE|TEAM|\n",
      "+---------+---+----+\n",
      "|    jokic| 25| den|\n",
      "|  leonard| 28|null|\n",
      "|     paul| 34| okc|\n",
      "|westbrook| 31| hou|\n",
      "|   siakam| 28| tor|\n",
      "|    james| 35| lal|\n",
      "+---------+---+----+\n",
      "\n"
     ]
    }
   ],
   "source": [
    "left_join = df_1.join(df_2, df_1.NAME == df_2.NAME, 'left').select(df_1.NAME, df_1.AGE, df_2.TEAM)\n",
    "left_join.show()"
   ]
  },
  {
   "cell_type": "markdown",
   "metadata": {},
   "source": [
    "- Rigth Join"
   ]
  },
  {
   "cell_type": "code",
   "execution_count": 22,
   "metadata": {},
   "outputs": [
    {
     "name": "stdout",
     "output_type": "stream",
     "text": [
      "+---------+----+----+\n",
      "|     NAME| AGE|TEAM|\n",
      "+---------+----+----+\n",
      "|    jokic|  25| den|\n",
      "|     paul|  34| okc|\n",
      "|westbrook|  31| hou|\n",
      "|   siakam|  28| tor|\n",
      "|    james|  35| lal|\n",
      "|     null|null| cle|\n",
      "+---------+----+----+\n",
      "\n"
     ]
    }
   ],
   "source": [
    "right_join = df_1.join(df_2, df_1.NAME == df_2.NAME, 'right').select(df_1.NAME, df_1.AGE, df_2.TEAM)\n",
    "right_join.show()"
   ]
  },
  {
   "cell_type": "markdown",
   "metadata": {},
   "source": [
    "- Outer Join"
   ]
  },
  {
   "cell_type": "code",
   "execution_count": 26,
   "metadata": {},
   "outputs": [
    {
     "name": "stdout",
     "output_type": "stream",
     "text": [
      "+---------+----+----+\n",
      "|     NAME| AGE|TEAM|\n",
      "+---------+----+----+\n",
      "|    jokic|  25| den|\n",
      "|  leonard|  28|null|\n",
      "|     paul|  34| okc|\n",
      "|westbrook|  31| hou|\n",
      "|   siakam|  28| tor|\n",
      "|    james|  35| lal|\n",
      "|     null|null| cle|\n",
      "+---------+----+----+\n",
      "\n"
     ]
    }
   ],
   "source": [
    "outer_join = df_1.join(df_2, df_1.NAME == df_2.NAME, 'outer').select(df_1.NAME, df_1.AGE, df_2.TEAM)\n",
    "outer_join.show()"
   ]
  },
  {
   "cell_type": "markdown",
   "metadata": {},
   "source": [
    "- Cross Join"
   ]
  },
  {
   "cell_type": "code",
   "execution_count": 33,
   "metadata": {},
   "outputs": [
    {
     "name": "stdout",
     "output_type": "stream",
     "text": [
      "+---------+---+----+\n",
      "|     NAME|AGE|TEAM|\n",
      "+---------+---+----+\n",
      "|    james| 35| lal|\n",
      "|    james| 35| okc|\n",
      "|    james| 35| hou|\n",
      "|    james| 35| tor|\n",
      "|    james| 35| den|\n",
      "|    james| 35| cle|\n",
      "|  leonard| 28| lal|\n",
      "|  leonard| 28| okc|\n",
      "|  leonard| 28| hou|\n",
      "|  leonard| 28| tor|\n",
      "|  leonard| 28| den|\n",
      "|  leonard| 28| cle|\n",
      "|     paul| 34| lal|\n",
      "|     paul| 34| okc|\n",
      "|     paul| 34| hou|\n",
      "|     paul| 34| tor|\n",
      "|     paul| 34| den|\n",
      "|     paul| 34| cle|\n",
      "|westbrook| 31| lal|\n",
      "|westbrook| 31| okc|\n",
      "+---------+---+----+\n",
      "only showing top 20 rows\n",
      "\n"
     ]
    }
   ],
   "source": [
    "df_1.crossJoin(df_2.select(\"TEAM\")).select(\"NAME\", \"AGE\", \"TEAM\").show()"
   ]
  }
 ],
 "metadata": {
  "kernelspec": {
   "display_name": "Python 3",
   "language": "python",
   "name": "python3"
  },
  "language_info": {
   "codemirror_mode": {
    "name": "ipython",
    "version": 3
   },
   "file_extension": ".py",
   "mimetype": "text/x-python",
   "name": "python",
   "nbconvert_exporter": "python",
   "pygments_lexer": "ipython3",
   "version": "3.6.7"
  }
 },
 "nbformat": 4,
 "nbformat_minor": 4
}
