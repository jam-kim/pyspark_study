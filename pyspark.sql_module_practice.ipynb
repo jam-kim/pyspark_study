{
 "cells": [
  {
   "cell_type": "code",
   "execution_count": 1,
   "metadata": {},
   "outputs": [],
   "source": [
    "import findspark\n",
    "findspark.init()\n",
    "\n",
    "from pyspark.sql import Row\n",
    "from pyspark.sql import SQLContext\n",
    "from pyspark import SparkContext\n",
    "from pyspark import SparkFiles"
   ]
  },
  {
   "cell_type": "markdown",
   "metadata": {},
   "source": [
    "주의! SparkContext()는 최초 실행 후 다시 실행하면 에러가 발생한다.\n",
    "> 🤔 왜 ?"
   ]
  },
  {
   "cell_type": "code",
   "execution_count": 2,
   "metadata": {},
   "outputs": [],
   "source": [
    "sc = SparkContext() \n",
    "sqlContext = SQLContext(sc)"
   ]
  },
  {
   "cell_type": "code",
   "execution_count": 4,
   "metadata": {},
   "outputs": [],
   "source": [
    "url = \"https://raw.githubusercontent.com/guru99-edu/R-Programming/master/adult_data.csv\"\n",
    "sc.addFile(url)\n",
    "sqlContext = SQLContext(sc)"
   ]
  },
  {
   "cell_type": "code",
   "execution_count": 5,
   "metadata": {},
   "outputs": [],
   "source": [
    "df = sqlContext.read.csv(\n",
    "    SparkFiles.get(\"adult_data.csv\"), \n",
    "    header=True, \n",
    "    inferSchema=True\n",
    ")"
   ]
  },
  {
   "cell_type": "code",
   "execution_count": 6,
   "metadata": {},
   "outputs": [
    {
     "name": "stdout",
     "output_type": "stream",
     "text": [
      "root\n",
      " |-- x: integer (nullable = true)\n",
      " |-- age: integer (nullable = true)\n",
      " |-- workclass: string (nullable = true)\n",
      " |-- fnlwgt: integer (nullable = true)\n",
      " |-- education: string (nullable = true)\n",
      " |-- educational-num: integer (nullable = true)\n",
      " |-- marital-status: string (nullable = true)\n",
      " |-- occupation: string (nullable = true)\n",
      " |-- relationship: string (nullable = true)\n",
      " |-- race: string (nullable = true)\n",
      " |-- gender: string (nullable = true)\n",
      " |-- capital-gain: integer (nullable = true)\n",
      " |-- capital-loss: integer (nullable = true)\n",
      " |-- hours-per-week: integer (nullable = true)\n",
      " |-- native-country: string (nullable = true)\n",
      " |-- income: string (nullable = true)\n",
      "\n"
     ]
    }
   ],
   "source": [
    "df.printSchema()"
   ]
  },
  {
   "cell_type": "markdown",
   "metadata": {},
   "source": [
    "### PySpark에서 사용할 수 있는 대표적인 함수를 알아보자"
   ]
  },
  {
   "cell_type": "markdown",
   "metadata": {},
   "source": [
    "Aggregate on the entire DataFrame without groups\n",
    "- avg\n",
    "- count\n",
    "- max\n",
    "- mean\n",
    "- min\n",
    "- sum"
   ]
  },
  {
   "cell_type": "code",
   "execution_count": 7,
   "metadata": {},
   "outputs": [
    {
     "data": {
      "text/plain": [
       "[Row(avg(age)=38.64358543876172)]"
      ]
     },
     "execution_count": 7,
     "metadata": {},
     "output_type": "execute_result"
    }
   ],
   "source": [
    "from pyspark.sql import functions as F\n",
    "\n",
    "df.agg(F.avg('age')).collect()"
   ]
  },
  {
   "cell_type": "code",
   "execution_count": 62,
   "metadata": {},
   "outputs": [
    {
     "data": {
      "text/plain": [
       "[Row(count(age)=48842)]"
      ]
     },
     "execution_count": 62,
     "metadata": {},
     "output_type": "execute_result"
    }
   ],
   "source": [
    "df.agg(F.count('age')).collect()"
   ]
  },
  {
   "cell_type": "code",
   "execution_count": 63,
   "metadata": {},
   "outputs": [
    {
     "data": {
      "text/plain": [
       "[Row(max(age)=90)]"
      ]
     },
     "execution_count": 63,
     "metadata": {},
     "output_type": "execute_result"
    }
   ],
   "source": [
    "df.agg(F.max('age')).collect()"
   ]
  },
  {
   "cell_type": "code",
   "execution_count": 64,
   "metadata": {},
   "outputs": [
    {
     "data": {
      "text/plain": [
       "[Row(min(age)=17)]"
      ]
     },
     "execution_count": 64,
     "metadata": {},
     "output_type": "execute_result"
    }
   ],
   "source": [
    "df.agg(F.min('age')).collect()"
   ]
  },
  {
   "cell_type": "code",
   "execution_count": 65,
   "metadata": {},
   "outputs": [
    {
     "data": {
      "text/plain": [
       "[Row(sum(age)=1887430)]"
      ]
     },
     "execution_count": 65,
     "metadata": {},
     "output_type": "execute_result"
    }
   ],
   "source": [
    "df.agg(F.sum('age')).collect()"
   ]
  },
  {
   "cell_type": "markdown",
   "metadata": {},
   "source": [
    "Qunatile(분위수) 계산\n",
    "\n",
    "```df.approxQuantile('col', [probabilities], relativeError)```\n",
    "\n",
    "- col: column name, or a list of names for multiple columns.\n",
    "- probabilities: [0, 1] 사이 값. 0 is the minimum, 0.5 is the median, 1 is the maximum.\n",
    "- relativeError: The relative target precision to achieve (>= 0). If set to zero, the exact quantiles are computed, which could be very expensive. Note that values greater than 1 are accepted but give the same result as 1."
   ]
  },
  {
   "cell_type": "code",
   "execution_count": 138,
   "metadata": {},
   "outputs": [
    {
     "data": {
      "text/plain": [
       "[37.0]"
      ]
     },
     "execution_count": 138,
     "metadata": {},
     "output_type": "execute_result"
    }
   ],
   "source": [
    "df.approxQuantile('age', [0.5], 0)"
   ]
  },
  {
   "cell_type": "code",
   "execution_count": 46,
   "metadata": {},
   "outputs": [
    {
     "data": {
      "text/plain": [
       "[[28.0], [12211.0]]"
      ]
     },
     "execution_count": 46,
     "metadata": {},
     "output_type": "execute_result"
    }
   ],
   "source": [
    "df.approxQuantile(['age', 'x'], [0.25], 0)"
   ]
  },
  {
   "cell_type": "markdown",
   "metadata": {},
   "source": [
    "SQL ``` SELECT * FROM [TABLE] LIMIT 5```"
   ]
  },
  {
   "cell_type": "code",
   "execution_count": 52,
   "metadata": {},
   "outputs": [
    {
     "data": {
      "text/plain": [
       "[Row(x=1, age=25, workclass='Private', fnlwgt=226802, education='11th', educational-num=7, marital-status='Never-married', occupation='Machine-op-inspct', relationship='Own-child', race='Black', gender='Male', capital-gain=0, capital-loss=0, hours-per-week=40, native-country='United-States', income='<=50K'),\n",
       " Row(x=2, age=38, workclass='Private', fnlwgt=89814, education='HS-grad', educational-num=9, marital-status='Married-civ-spouse', occupation='Farming-fishing', relationship='Husband', race='White', gender='Male', capital-gain=0, capital-loss=0, hours-per-week=50, native-country='United-States', income='<=50K'),\n",
       " Row(x=3, age=28, workclass='Local-gov', fnlwgt=336951, education='Assoc-acdm', educational-num=12, marital-status='Married-civ-spouse', occupation='Protective-serv', relationship='Husband', race='White', gender='Male', capital-gain=0, capital-loss=0, hours-per-week=40, native-country='United-States', income='>50K'),\n",
       " Row(x=4, age=44, workclass='Private', fnlwgt=160323, education='Some-college', educational-num=10, marital-status='Married-civ-spouse', occupation='Machine-op-inspct', relationship='Husband', race='Black', gender='Male', capital-gain=7688, capital-loss=0, hours-per-week=40, native-country='United-States', income='>50K'),\n",
       " Row(x=5, age=18, workclass='?', fnlwgt=103497, education='Some-college', educational-num=10, marital-status='Never-married', occupation='?', relationship='Own-child', race='White', gender='Female', capital-gain=0, capital-loss=0, hours-per-week=30, native-country='United-States', income='<=50K')]"
      ]
     },
     "execution_count": 52,
     "metadata": {},
     "output_type": "execute_result"
    }
   ],
   "source": [
    "df.take(5)"
   ]
  },
  {
   "cell_type": "markdown",
   "metadata": {},
   "source": [
    "Column 명을 보고 싶어"
   ]
  },
  {
   "cell_type": "code",
   "execution_count": 53,
   "metadata": {},
   "outputs": [
    {
     "data": {
      "text/plain": [
       "['x',\n",
       " 'age',\n",
       " 'workclass',\n",
       " 'fnlwgt',\n",
       " 'education',\n",
       " 'educational-num',\n",
       " 'marital-status',\n",
       " 'occupation',\n",
       " 'relationship',\n",
       " 'race',\n",
       " 'gender',\n",
       " 'capital-gain',\n",
       " 'capital-loss',\n",
       " 'hours-per-week',\n",
       " 'native-country',\n",
       " 'income']"
      ]
     },
     "execution_count": 53,
     "metadata": {},
     "output_type": "execute_result"
    }
   ],
   "source": [
    "df.columns"
   ]
  },
  {
   "cell_type": "markdown",
   "metadata": {},
   "source": [
    "### .show() 와 .collect() 차이 \n",
    ".show() 는 보여주기식이다. 이것을 다음 단계로 넘길 수 없다.\n",
    "\n",
    ".collect() 는 list로 값을 넘겨준다. 다음 단계로 넘겨 분석을 진행할 수 있다."
   ]
  },
  {
   "cell_type": "code",
   "execution_count": 87,
   "metadata": {},
   "outputs": [
    {
     "name": "stdout",
     "output_type": "stream",
     "text": [
      "+-------+------------------+\n",
      "|summary|            fnlwgt|\n",
      "+-------+------------------+\n",
      "|  count|             48842|\n",
      "|   mean|189664.13459727284|\n",
      "| stddev|105604.02542315757|\n",
      "|    min|             12285|\n",
      "|    max|           1490400|\n",
      "+-------+------------------+\n",
      "\n"
     ]
    }
   ],
   "source": [
    "df.describe(['fnlwgt']).show()"
   ]
  },
  {
   "cell_type": "code",
   "execution_count": 88,
   "metadata": {},
   "outputs": [
    {
     "data": {
      "text/plain": [
       "[Row(summary='count', fnlwgt='48842'),\n",
       " Row(summary='mean', fnlwgt='189664.13459727284'),\n",
       " Row(summary='stddev', fnlwgt='105604.02542315757'),\n",
       " Row(summary='min', fnlwgt='12285'),\n",
       " Row(summary='max', fnlwgt='1490400')]"
      ]
     },
     "execution_count": 88,
     "metadata": {},
     "output_type": "execute_result"
    }
   ],
   "source": [
    "df.describe(['fnlwgt']).collect()"
   ]
  },
  {
   "cell_type": "markdown",
   "metadata": {},
   "source": [
    "where 조건은 .filter()"
   ]
  },
  {
   "cell_type": "code",
   "execution_count": 115,
   "metadata": {},
   "outputs": [
    {
     "data": {
      "text/plain": [
       "Row(x=23, age=72, workclass='?', fnlwgt=132015, education='7th-8th', educational-num=4, marital-status='Divorced', occupation='?', relationship='Not-in-family', race='White', gender='Female', capital-gain=0, capital-loss=0, hours-per-week=6, native-country='United-States', income='<=50K')"
      ]
     },
     "execution_count": 115,
     "metadata": {},
     "output_type": "execute_result"
    }
   ],
   "source": [
    "df.filter('age > 70').collect()[0]"
   ]
  },
  {
   "cell_type": "markdown",
   "metadata": {},
   "source": [
    "and 조건 / or 조건"
   ]
  },
  {
   "cell_type": "code",
   "execution_count": 135,
   "metadata": {},
   "outputs": [
    {
     "data": {
      "text/plain": [
       "Row(x=23, age=72, workclass='?', fnlwgt=132015, education='7th-8th', educational-num=4, marital-status='Divorced', occupation='?', relationship='Not-in-family', race='White', gender='Female', capital-gain=0, capital-loss=0, hours-per-week=6, native-country='United-States', income='<=50K')"
      ]
     },
     "execution_count": 135,
     "metadata": {},
     "output_type": "execute_result"
    }
   ],
   "source": [
    "df.filter('age > 70 and age < 80').collect()[0]"
   ]
  },
  {
   "cell_type": "code",
   "execution_count": 134,
   "metadata": {},
   "outputs": [
    {
     "data": {
      "text/plain": [
       "Row(x=39, age=17, workclass='Private', fnlwgt=269430, education='10th', educational-num=6, marital-status='Never-married', occupation='Machine-op-inspct', relationship='Not-in-family', race='White', gender='Male', capital-gain=0, capital-loss=0, hours-per-week=40, native-country='United-States', income='<=50K')"
      ]
     },
     "execution_count": 134,
     "metadata": {},
     "output_type": "execute_result"
    }
   ],
   "source": [
    "df.filter('age < 20 or age > 80').collect()[1]"
   ]
  },
  {
   "cell_type": "markdown",
   "metadata": {},
   "source": [
    "GROUP BY는 groupBY()."
   ]
  },
  {
   "cell_type": "code",
   "execution_count": 77,
   "metadata": {},
   "outputs": [
    {
     "data": {
      "text/plain": [
       "[Row(gender='Female', avg(age)=36.92798913043478),\n",
       " Row(gender='Male', avg(age)=39.49439509954058)]"
      ]
     },
     "execution_count": 77,
     "metadata": {},
     "output_type": "execute_result"
    }
   ],
   "source": [
    "df.groupBy('gender').avg('age').collect()"
   ]
  },
  {
   "cell_type": "markdown",
   "metadata": {},
   "source": [
    "groupBy 기준 여러개를 설정할 수 있다."
   ]
  },
  {
   "cell_type": "code",
   "execution_count": 108,
   "metadata": {},
   "outputs": [
    {
     "data": {
      "text/plain": [
       "[Row(gender='Male', race='White', avg(age)=39.70450669914738),\n",
       " Row(gender='Female', race='Asian-Pac-Islander', avg(age)=35.657640232108314),\n",
       " Row(gender='Female', race='White', avg(age)=36.88293544177478),\n",
       " Row(gender='Female', race='Amer-Indian-Eskimo', avg(age)=36.23783783783784),\n",
       " Row(gender='Male', race='Other', avg(age)=35.167330677290835),\n",
       " Row(gender='Male', race='Black', avg(age)=37.922591501893145),\n",
       " Row(gender='Male', race='Asian-Pac-Islander', avg(age)=38.9940119760479),\n",
       " Row(gender='Male', race='Amer-Indian-Eskimo', avg(age)=36.98947368421052),\n",
       " Row(gender='Female', race='Other', avg(age)=31.212903225806453),\n",
       " Row(gender='Female', race='Black', avg(age)=37.90597920277296)]"
      ]
     },
     "execution_count": 108,
     "metadata": {},
     "output_type": "execute_result"
    }
   ],
   "source": [
    "df.groupBy('gender', 'race').avg('age').collect()"
   ]
  },
  {
   "cell_type": "markdown",
   "metadata": {},
   "source": [
    "물론 구하려는 변수에도 여러개 입력 가능"
   ]
  },
  {
   "cell_type": "code",
   "execution_count": 113,
   "metadata": {},
   "outputs": [
    {
     "name": "stdout",
     "output_type": "stream",
     "text": [
      "+------+-----------------+------------------+\n",
      "|gender|         avg(age)|       avg(fnlwgt)|\n",
      "+------+-----------------+------------------+\n",
      "|Female|36.92798913043478|185504.47171442688|\n",
      "|  Male|39.49439509954058| 191727.0216232772|\n",
      "+------+-----------------+------------------+\n",
      "\n"
     ]
    }
   ],
   "source": [
    "df.groupBy('gender').avg('age', 'fnlwgt').show()"
   ]
  },
  {
   "cell_type": "markdown",
   "metadata": {},
   "source": [
    "ORDER BY는 .sort()로 할 수 있다. \n",
    "\n",
    "desc()로 감싸면 descending 가능"
   ]
  },
  {
   "cell_type": "code",
   "execution_count": 104,
   "metadata": {},
   "outputs": [
    {
     "data": {
      "text/plain": [
       "[Row(gender='Male', race='White', avg(age)=39.70450669914738),\n",
       " Row(gender='Male', race='Other', avg(age)=35.167330677290835),\n",
       " Row(gender='Male', race='Black', avg(age)=37.922591501893145),\n",
       " Row(gender='Male', race='Asian-Pac-Islander', avg(age)=38.9940119760479),\n",
       " Row(gender='Male', race='Amer-Indian-Eskimo', avg(age)=36.98947368421052),\n",
       " Row(gender='Female', race='White', avg(age)=36.88293544177478),\n",
       " Row(gender='Female', race='Other', avg(age)=31.212903225806453),\n",
       " Row(gender='Female', race='Black', avg(age)=37.90597920277296),\n",
       " Row(gender='Female', race='Asian-Pac-Islander', avg(age)=35.657640232108314),\n",
       " Row(gender='Female', race='Amer-Indian-Eskimo', avg(age)=36.23783783783784)]"
      ]
     },
     "execution_count": 104,
     "metadata": {},
     "output_type": "execute_result"
    }
   ],
   "source": [
    "df.groupBy('gender', 'race').avg('age').sort(desc('gender'), 'race').collect()"
   ]
  },
  {
   "cell_type": "markdown",
   "metadata": {},
   "source": [
    "상위 n개 "
   ]
  },
  {
   "cell_type": "code",
   "execution_count": 96,
   "metadata": {},
   "outputs": [
    {
     "data": {
      "text/plain": [
       "[Row(x=1, age=25, workclass='Private', fnlwgt=226802, education='11th', educational-num=7, marital-status='Never-married', occupation='Machine-op-inspct', relationship='Own-child', race='Black', gender='Male', capital-gain=0, capital-loss=0, hours-per-week=40, native-country='United-States', income='<=50K'),\n",
       " Row(x=2, age=38, workclass='Private', fnlwgt=89814, education='HS-grad', educational-num=9, marital-status='Married-civ-spouse', occupation='Farming-fishing', relationship='Husband', race='White', gender='Male', capital-gain=0, capital-loss=0, hours-per-week=50, native-country='United-States', income='<=50K'),\n",
       " Row(x=3, age=28, workclass='Local-gov', fnlwgt=336951, education='Assoc-acdm', educational-num=12, marital-status='Married-civ-spouse', occupation='Protective-serv', relationship='Husband', race='White', gender='Male', capital-gain=0, capital-loss=0, hours-per-week=40, native-country='United-States', income='>50K'),\n",
       " Row(x=4, age=44, workclass='Private', fnlwgt=160323, education='Some-college', educational-num=10, marital-status='Married-civ-spouse', occupation='Machine-op-inspct', relationship='Husband', race='Black', gender='Male', capital-gain=7688, capital-loss=0, hours-per-week=40, native-country='United-States', income='>50K'),\n",
       " Row(x=5, age=18, workclass='?', fnlwgt=103497, education='Some-college', educational-num=10, marital-status='Never-married', occupation='?', relationship='Own-child', race='White', gender='Female', capital-gain=0, capital-loss=0, hours-per-week=30, native-country='United-States', income='<=50K')]"
      ]
     },
     "execution_count": 96,
     "metadata": {},
     "output_type": "execute_result"
    }
   ],
   "source": [
    "df.head(5)"
   ]
  }
 ],
 "metadata": {
  "kernelspec": {
   "display_name": "Python 3",
   "language": "python",
   "name": "python3"
  },
  "language_info": {
   "codemirror_mode": {
    "name": "ipython",
    "version": 3
   },
   "file_extension": ".py",
   "mimetype": "text/x-python",
   "name": "python",
   "nbconvert_exporter": "python",
   "pygments_lexer": "ipython3",
   "version": "3.6.7"
  }
 },
 "nbformat": 4,
 "nbformat_minor": 4
}
