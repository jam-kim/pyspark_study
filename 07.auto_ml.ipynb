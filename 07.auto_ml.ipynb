{
 "cells": [
  {
   "cell_type": "code",
   "execution_count": 1,
   "metadata": {},
   "outputs": [],
   "source": [
    "import findspark\n",
    "findspark.init()\n",
    "\n",
    "import pyspark.sql.types as tp\n",
    "from pyspark import SparkContext, SparkFiles\n",
    "from pyspark.sql import SQLContext, SparkSession\n",
    "from pyspark.ml import Pipeline\n",
    "from pyspark.ml.feature import StringIndexer, VectorAssembler\n",
    "from pyspark.ml.classification import LogisticRegression\n",
    "from pyspark.ml.regression import LinearRegression\n",
    "from pyspark.ml.evaluation import BinaryClassificationEvaluator\n",
    "from pyspark.ml.tuning import CrossValidator, ParamGridBuilder"
   ]
  },
  {
   "cell_type": "code",
   "execution_count": 2,
   "metadata": {},
   "outputs": [],
   "source": [
    "sc = SparkContext()\n",
    "\n",
    "url = 'https://gist.githubusercontent.com/netj/8836201/raw/6f9306ad21398ea43cba4f7d537619d0e07d5ae3/iris.csv'\n",
    "sc.addFile(url)\n",
    "sqlContext = SQLContext(sc)\n"
   ]
  },
  {
   "cell_type": "code",
   "execution_count": 3,
   "metadata": {},
   "outputs": [],
   "source": [
    "# 변수에 \".\", \"-\" 이 들어가 있으면 골치 아픈일이 많이 발생한다.....맘편하게 처리를 해주자 \n",
    "schema_setting = tp.StructType([\n",
    "    tp.StructField(name='sepal_length', dataType=tp.DoubleType(), nullable=False),\n",
    "    tp.StructField(name='sepal_width', dataType=tp.DoubleType(), nullable=False),\n",
    "    tp.StructField(name='petal_length', dataType=tp.DoubleType(), nullable=True),\n",
    "    tp.StructField(name='petal_width', dataType=tp.DoubleType(), nullable=False),\n",
    "    tp.StructField(name='variety', dataType=tp.StringType(), nullable=False)\n",
    "])\n",
    "\n",
    "data = sqlContext.read.csv(\n",
    "    SparkFiles.get(\"iris.csv\"), \n",
    "    header=True,\n",
    "    schema=schema_setting\n",
    ")"
   ]
  },
  {
   "cell_type": "code",
   "execution_count": 4,
   "metadata": {},
   "outputs": [],
   "source": [
    "\n",
    "# x, y 변수 구분 \n",
    "column_types = data.dtypes\n",
    "\n",
    "# string type 변수 확인 \n",
    "string_columns = [column_tpye[0] for column_tpye in column_types if column_tpye[1] == 'string']\n",
    "\n",
    "transform_data = data \n",
    "for column in string_columns:\n",
    "    string_indexer = StringIndexer(inputCol=column, outputCol='label')\n",
    "    transform_data = string_indexer.fit(transform_data).transform(transform_data)\n",
    "    transform_data = transform_data.drop(column)\n",
    "\n",
    "x = transform_data.columns\n",
    "x.remove('label')"
   ]
  },
  {
   "cell_type": "code",
   "execution_count": 5,
   "metadata": {},
   "outputs": [],
   "source": [
    "\n",
    "# 각각의 x를 하나의 벡터로 생성\n",
    "vector_assembler = VectorAssembler(inputCols=x, outputCol='features')\n",
    "\n",
    "# 모델 선언 \n",
    "logistic_regression = LogisticRegression(featuresCol='features', labelCol='label')\n",
    "\n",
    "# pipeline 생성\n",
    "pipeline = Pipeline(stages=[vector_assembler, logistic_regression])\n",
    "\n",
    "# 모델 생성\n",
    "model = pipeline.fit(transform_data)"
   ]
  },
  {
   "cell_type": "code",
   "execution_count": 6,
   "metadata": {},
   "outputs": [],
   "source": [
    "paramGrid = ParamGridBuilder() \\\n",
    "    .addGrid(logistic_regression.aggregationDepth,[2,5,10]) \\\n",
    "    .addGrid(logistic_regression.elasticNetParam,[0.0, 0.5, 1.0]) \\\n",
    "    .addGrid(logistic_regression.fitIntercept,[False, True]) \\\n",
    "    .addGrid(logistic_regression.regParam,[0.01, 0.5, 2.0]) \\\n",
    ".build()\n",
    "\n",
    "# uses 2/3 of the data for training and 1/3 for testing.\n",
    "crossval = CrossValidator(estimator=pipeline,\n",
    "                          estimatorParamMaps=paramGrid,\n",
    "                          evaluator=BinaryClassificationEvaluator(),\n",
    "                          numFolds=3 # k \n",
    "                         )  \n",
    "\n",
    "# cross validation을 적용하려면 y(target)값의 이름이 반드시 'label'이여야하는 안타까움이 있다.\n",
    "cvModel = crossval.fit(transform_data)\n"
   ]
  },
  {
   "cell_type": "code",
   "execution_count": 19,
   "metadata": {},
   "outputs": [
    {
     "data": {
      "text/plain": [
       "<bound method Params.getParam of CrossValidatorModel_34bdb7a2aff3>"
      ]
     },
     "execution_count": 19,
     "metadata": {},
     "output_type": "execute_result"
    }
   ],
   "source": [
    "cvModel.getParam"
   ]
  },
  {
   "cell_type": "code",
   "execution_count": null,
   "metadata": {},
   "outputs": [],
   "source": []
  }
 ],
 "metadata": {
  "kernelspec": {
   "display_name": "Python 3",
   "language": "python",
   "name": "python3"
  },
  "language_info": {
   "codemirror_mode": {
    "name": "ipython",
    "version": 3
   },
   "file_extension": ".py",
   "mimetype": "text/x-python",
   "name": "python",
   "nbconvert_exporter": "python",
   "pygments_lexer": "ipython3",
   "version": "3.6.7"
  }
 },
 "nbformat": 4,
 "nbformat_minor": 4
}
